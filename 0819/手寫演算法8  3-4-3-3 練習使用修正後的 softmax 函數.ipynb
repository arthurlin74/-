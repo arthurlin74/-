{
 "cells": [
  {
   "cell_type": "code",
   "execution_count": 1,
   "metadata": {},
   "outputs": [
    {
     "name": "stdout",
     "output_type": "stream",
     "text": [
      "[0.16123943 0.2958651  0.54289547]\n"
     ]
    }
   ],
   "source": [
    "# 原先範例增加 softmax 函數\n",
    "\n",
    "def softmax(a):\n",
    "    c =np.max(a) #取最大值\n",
    "    exp_a = np.exp(a - c) #將最大值扣除，使數字為負，減少位數極限問題\n",
    "    sum_exp_a = np.sum(exp_a)\n",
    "    y = exp_a / sum_exp_a\n",
    "    return y\n",
    "\n",
    "\n",
    "# 3-4-3-3 結構練習\n",
    "\n",
    "import numpy as np\n",
    "\n",
    "# 輸入層給予 S 型函數\n",
    "def sigmoid(x):\n",
    "    return 1 / (1+np.exp(-x))\n",
    "\n",
    "# 輸出層沒有特別處理，當作理想狀態\n",
    "def identity_function(y):  \n",
    "    return (y)\n",
    "\n",
    "# 整合各階段權重\n",
    "def init_network():\n",
    "    network = {}\n",
    "    #3*4\n",
    "    network['W1'] = np.array([[0.1,0.3,0.5,0.7],[0.2,0.4,0.6,0.8],[0.3,0.5,0.7,0.9]])\n",
    "    network['B1'] = np.array([0.1,0.2,0.3,0.4])\n",
    "    #4*3\n",
    "    network['W2'] = np.array([[0.1,0.4,0.7],[0.2,0.5,0.8],[0.3,0.6,0.9],[0.4,0.7,1.0]])\n",
    "    network['B2'] = np.array([0.1,0.2,0.3])\n",
    "    #3*3\n",
    "    network['W3'] = np.array([[0.1,0.3,0.5],[0.2,0.4,0.6],[0.3,0.5,0.7]])\n",
    "    network['B3'] = np.array([0.1,0.2,0.3])\n",
    "    return network\n",
    "\n",
    "# 整合矩陣運算法\n",
    "def forward(network,x):\n",
    "    W1,W2,W3 = network['W1'], network['W2'], network['W3']\n",
    "    B1,B2,B3 = network['B1'], network['B2'], network['B3']\n",
    "    \n",
    "    A1 = np.dot(X,W1) + B1\n",
    "    Z1 = sigmoid(A1)\n",
    "    \n",
    "    A2 = np.dot(Z1,W2) + B2\n",
    "    Z2 = sigmoid(A2)\n",
    "\n",
    "    A3 = np.dot(Z2,W3) + B3\n",
    "    Z3 = sigmoid(A3)\n",
    "    Y = softmax(A3) #<===改用 softmax 輸出\n",
    "    return Y\n",
    "\n",
    "# 實際運算時只要給以下資料 , 產生結果\n",
    "network = init_network()\n",
    "\n",
    "#-----------------------------------------------\n",
    "\n",
    "#輸入 1*3\n",
    "X = np.array([1.0,0.5,0.6])\n",
    "# print(network['W1'])\n",
    "# print(network['B1'])\n",
    "# print(network['W2'])\n",
    "# print(network['B2'])\n",
    "# print(network['W3'])\n",
    "# print(network['B3'])\n",
    "Y = forward(network, X)\n",
    "print(Y)\n",
    "\n",
    "#這樣做的優點是，將所有參數以比例型試計算，比較好調整參數\n"
   ]
  }
 ],
 "metadata": {
  "kernelspec": {
   "display_name": "Python 3",
   "language": "python",
   "name": "python3"
  },
  "language_info": {
   "codemirror_mode": {
    "name": "ipython",
    "version": 3
   },
   "file_extension": ".py",
   "mimetype": "text/x-python",
   "name": "python",
   "nbconvert_exporter": "python",
   "pygments_lexer": "ipython3",
   "version": "3.7.3"
  }
 },
 "nbformat": 4,
 "nbformat_minor": 2
}
