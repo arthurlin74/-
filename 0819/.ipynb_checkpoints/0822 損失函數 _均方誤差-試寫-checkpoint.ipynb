{
 "cells": [
  {
   "cell_type": "code",
   "execution_count": 6,
   "metadata": {},
   "outputs": [
    {
     "name": "stdout",
     "output_type": "stream",
     "text": [
      "0.09750000000000003\n",
      "0.9025000000000001\n"
     ]
    }
   ],
   "source": [
    "# 均方誤差 MSE ( mean-square error )\n",
    "# 參考 https://zh.wikipedia.org/wiki/%E5%9D%87%E6%96%B9%E8%AF%AF%E5%B7%AE\n",
    "# 它是「誤差」的平方的期望值。誤差就是估計值與被估計量的差\n",
    "# 期望是越小越好 (非常重要!!!!),若太高必須修正權重\n",
    "# 與其他損失函數擇一，次要選用\n",
    "\n",
    "def mean_square_error(y,t):\n",
    "    return 0.5*np.sum((y-t)**2)\n",
    "\n",
    "import numpy as np\n",
    "\n",
    "# t是原始資料\n",
    "# y是學習後的權重\n",
    "t = [0,0,1,0,0,0,0,0,0,0]\n",
    "y = [0.1,0.05,0.6,0.0,0.05,0.1,0.0,0.1,0.0,0.0]\n",
    "y2 = [0.1,0.05,0.6,0.0,0.05,0.1,0.6,0.1,0.5,1.0]\n",
    "\n",
    "print(mean_square_error(np.array(y),np.array(t)))\n",
    "print(mean_square_error(np.array(y2),np.array(t)))"
   ]
  }
 ],
 "metadata": {
  "kernelspec": {
   "display_name": "Python 3",
   "language": "python",
   "name": "python3"
  },
  "language_info": {
   "codemirror_mode": {
    "name": "ipython",
    "version": 3
   },
   "file_extension": ".py",
   "mimetype": "text/x-python",
   "name": "python",
   "nbconvert_exporter": "python",
   "pygments_lexer": "ipython3",
   "version": "3.7.3"
  }
 },
 "nbformat": 4,
 "nbformat_minor": 2
}
