{
 "cells": [
  {
   "cell_type": "code",
   "execution_count": 14,
   "metadata": {},
   "outputs": [
    {
     "name": "stdout",
     "output_type": "stream",
     "text": [
      "[1.  0.5 0.6]\n"
     ]
    }
   ],
   "source": [
    "# 3-4-3-3 結構練習\n",
    "\n",
    "import numpy as np\n",
    "\n",
    "# 輸入層給予 S 型函數\n",
    "def sigmoid(x):\n",
    "    return 1 / (1+np.exp(-x))\n",
    "\n",
    "# 輸出層沒有特別處理，當作理想狀態\n",
    "def identity_function(y):  \n",
    "    return (y)\n",
    "\n",
    "# 整合各階段權重\n",
    "def init_network():\n",
    "    network = {}\n",
    "    #3*4\n",
    "    network['W1'] = np.array([[0.1,0.3,0.5,0.7],[0.2,0.4,0.6,0.8],[0.3,0.5,0.7,0.9]])\n",
    "    network['B1'] = np.array([0.1,0.2,0.3,0.4])\n",
    "    #4*3\n",
    "    network['W2'] = np.array([[0.1,0.4,0.7],[0.2,0.5,0.8],[0.3,0.6,0.9],[0.4,0.7,1.0]])\n",
    "    network['B2'] = np.array([0.1,0.2,0.3])\n",
    "    #3*3\n",
    "    network['W3'] = np.array([[0.1,0.3,0.5],[0.2,0.4,0.6],[0.3,0.5,0.7]])\n",
    "    network['B3'] = np.array([0.1,0.2,0.3])\n",
    "    return network\n",
    "\n",
    "# 整合矩陣運算法\n",
    "def forward(network,x):\n",
    "    W1,W2,W3 = network['W1'], network['W2'], network['W3']\n",
    "    B1,B2,B3 = network['B1'], network['B2'], network['B3']\n",
    "    \n",
    "    A1 = np.dot(X,W1) + B1\n",
    "    Z1 = sigmoid(A1)\n",
    "    \n",
    "    A2 = np.dot(Z1,W2) + B2\n",
    "    Z2 = sigmoid(A2)\n",
    "\n",
    "    A3 = np.dot(Z2,W3) + B3\n",
    "    Z3 = sigmoid(A3) # 可省略 (上課未說明)\n",
    "    Y = identity_function(A3)\n",
    "    return Y\n",
    "\n",
    "# 實際運算時只要給以下資料 , 產生結果\n",
    "network = init_network()\n",
    "\n",
    "#-----------------------------------------------\n",
    "\n",
    "#輸入 1*3\n",
    "X = np.array([1.0,0.5,0.6])\n",
    "# print(network['W1'])\n",
    "# print(network['B1'])\n",
    "# print(network['W2'])\n",
    "# print(network['B2'])\n",
    "# print(network['W3'])\n",
    "# print(network['B3'])\n",
    "Y = forward(network, X)\n",
    "print(X)\n"
   ]
  }
 ],
 "metadata": {
  "kernelspec": {
   "display_name": "Python 3",
   "language": "python",
   "name": "python3"
  },
  "language_info": {
   "codemirror_mode": {
    "name": "ipython",
    "version": 3
   },
   "file_extension": ".py",
   "mimetype": "text/x-python",
   "name": "python",
   "nbconvert_exporter": "python",
   "pygments_lexer": "ipython3",
   "version": "3.7.3"
  }
 },
 "nbformat": 4,
 "nbformat_minor": 2
}
