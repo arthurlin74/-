{
 "cells": [
  {
   "cell_type": "code",
   "execution_count": 4,
   "metadata": {},
   "outputs": [
    {
     "data": {
      "text/plain": [
       "0.510825457099338"
      ]
     },
     "execution_count": 4,
     "metadata": {},
     "output_type": "execute_result"
    }
   ],
   "source": [
    "# 交叉熵损失函数 (cross entropy error)\n",
    "# 參考 : https://blog.csdn.net/dcrmg/article/details/80010342\n",
    "# delta 是參考用的補償值,沒有一定 (有點類似 \"偏差值( bias )\" 的概念 ?)\n",
    "# 交叉熵不是等价的，t是期望值，y是預測值\n",
    "# 數值越低越好\n",
    "# 與其他損失函數擇一，優先選用，比較能防止極端參數影響結果\n",
    "\n",
    "import numpy as np\n",
    "\n",
    "def cross_entropy_error(y,t):\n",
    "    delta = 1e-7\n",
    "    return -np.sum(t*np.log(y+delta))\n",
    "\n",
    "t = [0,0,1,0,0,0,0,0,0,0]\n",
    "y = [0.1,0.05,0.6,0.0,0.05,0.1,0.0,0.1,0.0,0.0]\n",
    "y2 = [0.1,0.05,0.6,0.0,0.05,0.1,0.6,0.1,0.5,1.0]\n",
    "\n",
    "cross_entropy_error(np.array(y),np.array(t))"
   ]
  }
 ],
 "metadata": {
  "kernelspec": {
   "display_name": "Python 3",
   "language": "python",
   "name": "python3"
  },
  "language_info": {
   "codemirror_mode": {
    "name": "ipython",
    "version": 3
   },
   "file_extension": ".py",
   "mimetype": "text/x-python",
   "name": "python",
   "nbconvert_exporter": "python",
   "pygments_lexer": "ipython3",
   "version": "3.7.3"
  }
 },
 "nbformat": 4,
 "nbformat_minor": 2
}
