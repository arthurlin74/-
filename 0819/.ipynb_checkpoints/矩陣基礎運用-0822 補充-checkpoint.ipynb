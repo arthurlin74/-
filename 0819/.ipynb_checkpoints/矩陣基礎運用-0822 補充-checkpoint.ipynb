{
 "cells": [
  {
   "cell_type": "code",
   "execution_count": 10,
   "metadata": {},
   "outputs": [
    {
     "name": "stdout",
     "output_type": "stream",
     "text": [
      "同一行矩陣最大值位置 [0 0 0 2]\n",
      "同一列矩陣最大值位置 [0 0 1]\n",
      "矩陣同位置的數值比較 [ True False False]\n"
     ]
    }
   ],
   "source": [
    "import numpy as np\n",
    "\n",
    "x = np.array([[1.0,0.8,0.1],\n",
    "              [1.0,0.7,0.9],\n",
    "              [0.9,0.5,0.2],\n",
    "              [0.6,0.6,0.8]])\n",
    "y = np.argmax(x,axis=1)\n",
    "print(\"同一行矩陣最大值位置\",y)\n",
    "y = np.argmax(x,axis=0)\n",
    "print(\"同一列矩陣最大值位置\",y)\n",
    "print(\"矩陣同位置的數值比較\",x[0]==x[1])"
   ]
  },
  {
   "cell_type": "code",
   "execution_count": null,
   "metadata": {},
   "outputs": [],
   "source": []
  }
 ],
 "metadata": {
  "kernelspec": {
   "display_name": "Python 3",
   "language": "python",
   "name": "python3"
  },
  "language_info": {
   "codemirror_mode": {
    "name": "ipython",
    "version": 3
   },
   "file_extension": ".py",
   "mimetype": "text/x-python",
   "name": "python",
   "nbconvert_exporter": "python",
   "pygments_lexer": "ipython3",
   "version": "3.7.3"
  }
 },
 "nbformat": 4,
 "nbformat_minor": 2
}
