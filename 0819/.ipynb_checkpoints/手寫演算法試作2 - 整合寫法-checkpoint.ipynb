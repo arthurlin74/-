{
 "cells": [
  {
   "cell_type": "code",
   "execution_count": 1,
   "metadata": {},
   "outputs": [
    {
     "name": "stdout",
     "output_type": "stream",
     "text": [
      "[1.  0.5]\n"
     ]
    }
   ],
   "source": [
    "# 參考 0819/04_多維矩陣運算 講義\n",
    "# 整理上一筆的程式\n",
    "\n",
    "import numpy as np\n",
    "\n",
    "# 輸入層給予 S 型函數\n",
    "def sigmoid(x):\n",
    "    return 1 / (1+np.exp(-x))\n",
    "\n",
    "# 輸出層沒有特別處理，當作理想狀態\n",
    "def identity_function(y):  \n",
    "    return (y)\n",
    "\n",
    "# 整合各階段權重\n",
    "def init_network():\n",
    "    network = {}\n",
    "    \n",
    "    network['W1'] = np.array([[0.1,0.3,0.5],[0.2,0.4,0.6]])\n",
    "    network['B1'] = np.array([0.1,0.2,0.3])\n",
    "    \n",
    "    network['W2'] = np.array([[0.1,0.4],[0.2,0.5],[0.3,0.6]])\n",
    "    network['B2'] = np.array([0.1,0.2])\n",
    "    \n",
    "    network['W3'] = np.array([[0.1,0.3],[0.2,0.4]])\n",
    "    network['B3'] = np.array([0.1,0.2])\n",
    "    return network\n",
    "\n",
    "# 整合矩陣運算法\n",
    "def forward(network,x):\n",
    "    W1,W2,W3 = network['W1'], network['W2'], network['W3']\n",
    "    B1,B2,B3 = network['B1'], network['B2'], network['B3']\n",
    "    \n",
    "    A1 = np.dot(X,W1) + B1\n",
    "    Z1 = sigmoid(A1)\n",
    "    \n",
    "    A2 = np.dot(Z1,W2) + B2\n",
    "    Z2 = sigmoid(A2)\n",
    "\n",
    "    A3 = np.dot(Z2,W3) + B3\n",
    "    Z3 = sigmoid(A3) # 可省略 (上課未說明)\n",
    "    Y = identity_function(A3)\n",
    "    return Y\n",
    "\n",
    "# 實際運算時只要給以下資料 , 產生結果\n",
    "network = init_network()\n",
    "X = np.array([1.0,0.5])\n",
    "Y = forward(network, X)\n",
    "print(X)\n",
    "\n",
    "# 備註 : 實際運作時，第一次的權重都是給 random\n",
    "# 此範例為 2*3*2*2 的架構"
   ]
  }
 ],
 "metadata": {
  "kernelspec": {
   "display_name": "Python 3",
   "language": "python",
   "name": "python3"
  },
  "language_info": {
   "codemirror_mode": {
    "name": "ipython",
    "version": 3
   },
   "file_extension": ".py",
   "mimetype": "text/x-python",
   "name": "python",
   "nbconvert_exporter": "python",
   "pygments_lexer": "ipython3",
   "version": "3.7.3"
  }
 },
 "nbformat": 4,
 "nbformat_minor": 2
}
