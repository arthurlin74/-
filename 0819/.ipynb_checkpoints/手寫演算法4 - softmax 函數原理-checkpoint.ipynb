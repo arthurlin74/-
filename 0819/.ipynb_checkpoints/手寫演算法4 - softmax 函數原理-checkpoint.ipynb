{
 "cells": [
  {
   "cell_type": "code",
   "execution_count": 6,
   "metadata": {},
   "outputs": [
    {
     "name": "stdout",
     "output_type": "stream",
     "text": [
      "[ 1.34985881 18.17414537 54.59815003]\n",
      "74.1221542101633\n",
      "[0.01821127 0.24519181 0.73659691]\n",
      "1.0\n"
     ]
    }
   ],
   "source": [
    "# 練習寫入softmax 函數\n",
    "\n",
    "import numpy as np\n",
    "\n",
    "a = np.array([0.3,2.9,4.0])\n",
    "\n",
    "# 看看指數結果\n",
    "exp_a = np.exp(a)\n",
    "print(exp_a) \n",
    "\n",
    "# 加總\n",
    "sum_exp_a = np.sum(exp_a)\n",
    "print(sum_exp_a)\n",
    "\n",
    "# softmax 函數\n",
    "y = exp_a / sum_exp_a\n",
    "print(y)\n",
    "print(np.sum(y)) #其結果加總等於 1.0，相當於抓比例\n"
   ]
  }
 ],
 "metadata": {
  "kernelspec": {
   "display_name": "Python 3",
   "language": "python",
   "name": "python3"
  },
  "language_info": {
   "codemirror_mode": {
    "name": "ipython",
    "version": 3
   },
   "file_extension": ".py",
   "mimetype": "text/x-python",
   "name": "python",
   "nbconvert_exporter": "python",
   "pygments_lexer": "ipython3",
   "version": "3.7.3"
  }
 },
 "nbformat": 4,
 "nbformat_minor": 2
}
