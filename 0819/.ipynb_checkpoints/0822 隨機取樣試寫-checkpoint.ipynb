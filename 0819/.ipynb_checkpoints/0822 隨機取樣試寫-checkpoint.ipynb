{
 "cells": [
  {
   "cell_type": "code",
   "execution_count": 9,
   "metadata": {},
   "outputs": [
    {
     "name": "stdout",
     "output_type": "stream",
     "text": [
      "(60000, 784)\n",
      "(60000,)\n",
      "共取用 6000.0 筆資料做運算\n",
      "[41075 29866 56410 32956 43154 19316 55632 37156 57215 47030]\n",
      "[[0. 0. 0. ... 0. 0. 0.]\n",
      " [0. 0. 0. ... 0. 0. 0.]\n",
      " [0. 0. 0. ... 0. 0. 0.]\n",
      " ...\n",
      " [0. 0. 0. ... 0. 0. 0.]\n",
      " [0. 0. 0. ... 0. 0. 0.]\n",
      " [0. 0. 0. ... 0. 0. 0.]]\n",
      "[4 4 7 7 6 6 8 4 7 8]\n"
     ]
    }
   ],
   "source": [
    "import sys, os\n",
    "sys.path.append(os.pardir)\n",
    "import numpy as np\n",
    "from dataset.mnist import load_mnist\n",
    "\n",
    "(x_train, t_train), (x_test, t_test) = load_mnist(normalize=True, flatten=True, one_hot_label=False)\n",
    "print(x_train.shape)\n",
    "print(t_train.shape)\n",
    "\n",
    "train_size = x_train.shape[0]\n",
    "batch_size = 10\n",
    "\n",
    "print(\"共取用\",x_train.shape[0]/batch_size,\"筆資料做運算\")\n",
    "\n",
    "# 隨機取用 10 筆\n",
    "batch_mask = np.random.choice(train_size,batch_size)\n",
    "print(batch_mask)\n",
    "\n",
    "# x_train_batch 抓出圖片\n",
    "# t_train_batch 抓出圖片標籤\n",
    "x_train_batch = x_train[batch_mask]\n",
    "t_train_batch = t_train[batch_mask]\n",
    "print(x_train_batch)\n",
    "print(t_train_batch)"
   ]
  }
 ],
 "metadata": {
  "kernelspec": {
   "display_name": "Python 3",
   "language": "python",
   "name": "python3"
  },
  "language_info": {
   "codemirror_mode": {
    "name": "ipython",
    "version": 3
   },
   "file_extension": ".py",
   "mimetype": "text/x-python",
   "name": "python",
   "nbconvert_exporter": "python",
   "pygments_lexer": "ipython3",
   "version": "3.7.3"
  }
 },
 "nbformat": 4,
 "nbformat_minor": 2
}
