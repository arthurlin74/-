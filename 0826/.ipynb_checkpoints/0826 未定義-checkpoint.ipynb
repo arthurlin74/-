{
 "cells": [
  {
   "cell_type": "code",
   "execution_count": 4,
   "metadata": {},
   "outputs": [
    {
     "name": "stdout",
     "output_type": "stream",
     "text": [
      "[[ 0  5 10 15]\n",
      " [20 25 30 35]\n",
      " [40 45 50 55]]\n",
      "(0, 0)\n",
      "(0, 1)\n",
      "(0, 2)\n",
      "(0, 3)\n",
      "(1, 0)\n",
      "(1, 1)\n",
      "(1, 2)\n",
      "(1, 3)\n",
      "(2, 0)\n",
      "(2, 1)\n",
      "(2, 2)\n",
      "(2, 3)\n"
     ]
    }
   ],
   "source": [
    "import numpy as np\n",
    "\n",
    "a = np.arange(0,60,5).reshape(3,4)\n",
    "print(a)\n",
    "\n",
    "# nditer 迭代器 , multi_index 多重索引 (就是輸出陣列) , readwrite 讀寫許可權\n",
    "# iternext() 控制下一個迭代，若無此項會一直以原本的參數作業\n",
    "# 參考資料 https://www.itread01.com/content/1548500961.html\n",
    "# 迭代結束會自動產生 . finished 狀態\n",
    "it = np.nditer(a,flags=['multi_index'],op_flags=['readwrite'])\n",
    "while (not it.finished):\n",
    "    idx =it.multi_index\n",
    "    print(idx)\n",
    "    it.iternext()"
   ]
  }
 ],
 "metadata": {
  "kernelspec": {
   "display_name": "Python 3",
   "language": "python",
   "name": "python3"
  },
  "language_info": {
   "codemirror_mode": {
    "name": "ipython",
    "version": 3
   },
   "file_extension": ".py",
   "mimetype": "text/x-python",
   "name": "python",
   "nbconvert_exporter": "python",
   "pygments_lexer": "ipython3",
   "version": "3.7.3"
  }
 },
 "nbformat": 4,
 "nbformat_minor": 2
}
