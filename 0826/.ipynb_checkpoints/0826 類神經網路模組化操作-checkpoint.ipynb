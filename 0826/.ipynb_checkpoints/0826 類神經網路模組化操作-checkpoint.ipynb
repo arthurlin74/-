{
 "cells": [
  {
   "cell_type": "code",
   "execution_count": 8,
   "metadata": {},
   "outputs": [
    {
     "name": "stdout",
     "output_type": "stream",
     "text": [
      "微分值 = [[ 0.3875529   0.09581878 -0.48337168]\n",
      " [ 0.58132935  0.14372817 -0.72505752]]\n"
     ]
    }
   ],
   "source": [
    "import sys,os\n",
    "sys.path.append(os.pardir)\n",
    "import numpy as np\n",
    "from common.functions import softmax,cross_entropy_error\n",
    "from common.gradient import numerical_gradient\n",
    "\n",
    "\n",
    "# .randn 返回指定維度的亂數\n",
    "class simpleNet:\n",
    "    def __init__(self):\n",
    "        self.W = np.random.randn(2,3)\n",
    "    def predict(self,x):\n",
    "        return np.dot(x,self.W)\n",
    "    def loss(self,x,t):\n",
    "        z = self.predict(x)\n",
    "        y = softmax(z)\n",
    "        loss = cross_entropy_error(y,t)\n",
    "        return loss\n",
    "\n",
    "#-------------------------\n",
    "\n",
    "# 因目標是 2*3，故這邊應該是 1*2，x數值隨便給的\n",
    "x = np.array([0.6,0.9])\n",
    "# 輸出值必須符合 1*3，必須是特殊矩陣\n",
    "t = np.array([0,0,1])\n",
    "net = simpleNet()\n",
    "# 使用自身呼叫變數檢驗狀況\n",
    "# print(net.W)\n",
    "\n",
    "# 將損失模組調出使用\n",
    "def f(W):\n",
    "    return net.loss(x,t)\n",
    "\n",
    "# f = 平面\n",
    "# net.W = 想要搜尋的值\n",
    "dw = numerical_gradient(f,net.W)\n",
    "print(\"微分值 =\",dw)"
   ]
  }
 ],
 "metadata": {
  "kernelspec": {
   "display_name": "Python 3",
   "language": "python",
   "name": "python3"
  },
  "language_info": {
   "codemirror_mode": {
    "name": "ipython",
    "version": 3
   },
   "file_extension": ".py",
   "mimetype": "text/x-python",
   "name": "python",
   "nbconvert_exporter": "python",
   "pygments_lexer": "ipython3",
   "version": "3.7.3"
  }
 },
 "nbformat": 4,
 "nbformat_minor": 2
}
