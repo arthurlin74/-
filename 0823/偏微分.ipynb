{
 "cells": [
  {
   "cell_type": "code",
   "execution_count": 9,
   "metadata": {},
   "outputs": [
    {
     "name": "stdout",
     "output_type": "stream",
     "text": [
      "6.00000000000378\n",
      "7.999999999999119\n",
      "0.0\n",
      "0.0\n"
     ]
    }
   ],
   "source": [
    "#偏微分\n",
    "# 老師給的原始函數 f(x0,x1) = x0**2+x1**2 (x0=3,x1=4)\n",
    "# 有問題，解出來不正確\n",
    "\n",
    "import numpy as np\n",
    "import matplotlib.pylab as plt\n",
    "\n",
    "\n",
    "# 取微小變化\n",
    "def numerical_diff(f,x):\n",
    "    h = 1e-4\n",
    "    return (f(x+h)-f(x-h))/(2*h)\n",
    "\n",
    "# function 是隨便取用的\n",
    "def function_tmpl(x):\n",
    "    return x**2+16\n",
    "\n",
    "def function_tmp2(x):\n",
    "    return x**2+9\n",
    "\n",
    "# 找極小值\n",
    "print(numerical_diff(function_tmpl,3))\n",
    "print(numerical_diff(function_tmp2,4))\n",
    "\n",
    "# x=0 的點，在此方程式此點為極小值\n",
    "print(numerical_diff(function_tmpl,0))\n",
    "print(numerical_diff(function_tmp2,0))"
   ]
  }
 ],
 "metadata": {
  "kernelspec": {
   "display_name": "Python 3",
   "language": "python",
   "name": "python3"
  },
  "language_info": {
   "codemirror_mode": {
    "name": "ipython",
    "version": 3
   },
   "file_extension": ".py",
   "mimetype": "text/x-python",
   "name": "python",
   "nbconvert_exporter": "python",
   "pygments_lexer": "ipython3",
   "version": "3.7.3"
  }
 },
 "nbformat": 4,
 "nbformat_minor": 2
}
