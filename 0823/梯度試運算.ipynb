{
 "cells": [
  {
   "cell_type": "code",
   "execution_count": 11,
   "metadata": {},
   "outputs": [
    {
     "name": "stdout",
     "output_type": "stream",
     "text": [
      "正確 : [6. 8.]\n",
      "錯誤 : [25000 35000]\n",
      "(324, 2)\n"
     ]
    }
   ],
   "source": [
    "# 梯度 gradient\n",
    "# 對 x,y各自找斜率 (各自偏微分)，然後產生梯度\n",
    "# 參考 https://zh.wikipedia.org/wiki/%E6%A2%AF%E5%BA%A6\n",
    "\n",
    "import numpy as np\n",
    "import os\n",
    "import matplotlib.pylab as plt\n",
    "\n",
    "# 3D繪圖模組\n",
    "from mpl_toolkits.mplot3d import Axes3D\n",
    "\n",
    "def function_1(x):\n",
    "    return x[0]**2+x[1]**2\n",
    "\n",
    "def function_2(x):\n",
    "    if x.ndim==1:\n",
    "        return np.sum(x**2)\n",
    "    else:\n",
    "        return np.sun(x**2,axis=1)\n",
    "\n",
    "def numercial_gradient(f,x):\n",
    "    h = -1e-4\n",
    "    grad = np.zeros_like(x)\n",
    "    for idx in range(x.size):\n",
    "        \n",
    "        tmp_val = x[idx]\n",
    "        x[idx] = tmp_val + h\n",
    "        fxhl = f(x)\n",
    "        x[idx] = tmp_val - h\n",
    "        fxh2 = f(x)\n",
    "        grad[idx] = (fxhl-fxh2) / (2*h)\n",
    "        x[idx] = tmp_val\n",
    "    \n",
    "    return grad\n",
    "\n",
    "\n",
    "# 這裡有浮點數運算問題，但原因不明\n",
    "print(\"正確 :\",numercial_gradient(function_1,np.array([3.0,4.0])))\n",
    "print(\"錯誤 :\",numercial_gradient(function_1,np.array([3,4])))\n",
    "\n",
    "x0 = np.arange(-2,2.5,0.25)\n",
    "x1 = np.arange(-2,2.5,0.25)\n",
    "\n",
    "# meshgrid函数用两个坐标轴上的点在平面上画格\n",
    "X,Y = np.meshgrid(x0,x1)\n",
    "X = X.flatten()\n",
    "Y = Y.flatten()\n",
    "print((np.array([X,Y]).T).shape)\n",
    "\n"
   ]
  }
 ],
 "metadata": {
  "kernelspec": {
   "display_name": "Python 3",
   "language": "python",
   "name": "python3"
  },
  "language_info": {
   "codemirror_mode": {
    "name": "ipython",
    "version": 3
   },
   "file_extension": ".py",
   "mimetype": "text/x-python",
   "name": "python",
   "nbconvert_exporter": "python",
   "pygments_lexer": "ipython3",
   "version": "3.7.3"
  }
 },
 "nbformat": 4,
 "nbformat_minor": 2
}
