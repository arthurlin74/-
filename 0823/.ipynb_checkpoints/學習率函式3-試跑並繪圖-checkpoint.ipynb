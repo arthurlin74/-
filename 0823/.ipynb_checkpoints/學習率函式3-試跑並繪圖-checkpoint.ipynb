{
 "cells": [
  {
   "cell_type": "code",
   "execution_count": 7,
   "metadata": {},
   "outputs": [
    {
     "data": {
      "image/png": "[encoded data removed]",
      "text/plain": [
       "<Figure size 432x288 with 1 Axes>"
      ]
     },
     "metadata": {
      "needs_background": "light"
     },
     "output_type": "display_data"
    }
   ],
   "source": [
    "import numpy as np\n",
    "import matplotlib.pylab as plt\n",
    "\n",
    "def numercial_gradient(f,x):\n",
    "    h = -1e-4\n",
    "    grad = np.zeros_like(x)\n",
    "    for idx in range(x.size):\n",
    "        \n",
    "        tmp_val = x[idx]\n",
    "        x[idx] = tmp_val + h\n",
    "        fxhl = f(x)\n",
    "        x[idx] = tmp_val - h\n",
    "        fxh2 = f(x)\n",
    "        grad[idx] = (fxhl-fxh2) / (2*h)\n",
    "        x[idx] = tmp_val\n",
    "    \n",
    "    return grad\n",
    "\n",
    "# 這個函式是重點\n",
    "# X 代表學習率 (learning Rate = lr)，未輸入時給予 1% 學習率，一次算 100筆\n",
    "# 學習率過大時會導致參數嚴重偏移 (>>1)，後面參數可能會不收斂\n",
    "# x_history 紀錄演算過程\n",
    "def gradient_descent(f,init_x,lr=0.01,step_num=100):    \n",
    "    x = init_x\n",
    "    x_history =[]\n",
    "    \n",
    "    for i in range(step_num):\n",
    "        x_history.append(x.copy())\n",
    "        grad = numercial_gradient(f,x)\n",
    "        x -=lr*grad\n",
    "    return x,np.array(x_history)\n",
    "\n",
    "def function_2(x):\n",
    "    return x[0]**2 + x[1]**2\n",
    "\n",
    "# 這是初始值，一般是隨機給\n",
    "init_x = np.array([-4.0,-4.0])\n",
    "\n",
    "# 學習率 / 運算次數\n",
    "lr = 0.1\n",
    "step_num=100\n",
    "x,x_history = gradient_descent(function_2,init_x=init_x, lr=lr , step_num=step_num)\n",
    "plt.plot([-5,5],[0,0],'--r')\n",
    "plt.plot([0,0],[-5,5],'--r')\n",
    "plt.plot(x_history[:,0],x_history[:,1],'+')\n",
    "\n",
    "plt.xlim([-5,5])\n",
    "plt.ylim([-5,5])\n",
    "plt.xlabel(\"x0\")\n",
    "plt.ylabel(\"x1\")\n",
    "\n",
    "plt.show()"
   ]
  }
 ],
 "metadata": {
  "kernelspec": {
   "display_name": "Python 3",
   "language": "python",
   "name": "python3"
  },
  "language_info": {
   "codemirror_mode": {
    "name": "ipython",
    "version": 3
   },
   "file_extension": ".py",
   "mimetype": "text/x-python",
   "name": "python",
   "nbconvert_exporter": "python",
   "pygments_lexer": "ipython3",
   "version": "3.7.3"
  }
 },
 "nbformat": 4,
 "nbformat_minor": 2
}
