{
 "cells": [
  {
   "cell_type": "code",
   "execution_count": 7,
   "metadata": {},
   "outputs": [
    {
     "name": "stdout",
     "output_type": "stream",
     "text": [
      "[-8.14814391e-10 -8.14814391e-10]\n"
     ]
    }
   ],
   "source": [
    "import numpy as np\n",
    "\n",
    "def numercial_gradient(f,x):\n",
    "    h = -1e-4\n",
    "    grad = np.zeros_like(x)\n",
    "    for idx in range(x.size):\n",
    "        \n",
    "        tmp_val = x[idx]\n",
    "        x[idx] = tmp_val + h\n",
    "        fxhl = f(x)\n",
    "        x[idx] = tmp_val - h\n",
    "        fxh2 = f(x)\n",
    "        grad[idx] = (fxhl-fxh2) / (2*h)\n",
    "        x[idx] = tmp_val\n",
    "    \n",
    "    return grad\n",
    "\n",
    "# 這個函式是重點\n",
    "# X 代表學習率 (learning Rate = lr)，未輸入時給予 1% 學習率，一次算 100筆\n",
    "# 學習率過大時會導致參數嚴重偏移 (>>1)，後面參數可能會不收斂\n",
    "def gradient_descent(f,init_x,lr=0.01,step_num=100):\n",
    "    x = init_x\n",
    "    for i in range(step_num):\n",
    "        grad = numercial_gradient(f,x)\n",
    "        x -=lr*grad\n",
    "    return x\n",
    "\n",
    "def function_2(x):\n",
    "    return x[0]**2 + x[1]**2\n",
    "    \n",
    "init_x = np.array([-4.0,-4.0])\n",
    "\n",
    "# 數字都可以改，這邊只是粗略給值\n",
    "G = gradient_descent(function_2,init_x=init_x, lr=0.1 , step_num=100)\n",
    "print(G)"
   ]
  }
 ],
 "metadata": {
  "kernelspec": {
   "display_name": "Python 3",
   "language": "python",
   "name": "python3"
  },
  "language_info": {
   "codemirror_mode": {
    "name": "ipython",
    "version": 3
   },
   "file_extension": ".py",
   "mimetype": "text/x-python",
   "name": "python",
   "nbconvert_exporter": "python",
   "pygments_lexer": "ipython3",
   "version": "3.7.3"
  }
 },
 "nbformat": 4,
 "nbformat_minor": 2
}
