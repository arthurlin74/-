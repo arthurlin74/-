{
 "cells": [
  {
   "cell_type": "code",
   "execution_count": null,
   "metadata": {},
   "outputs": [],
   "source": [
    "# 類別\n",
    "\n",
    "class Man:\n",
    "\n",
    "    def __init__(self, name):\n",
    "        self.name = name\n",
    "        print(\"Initilized!\")\n",
    "\n",
    "    def hello(self):\n",
    "        print(\"Hello \" + self.name + \"!\")\n",
    "\n",
    "    def goodbye(self):\n",
    "        print(\"Good-bye \" + self.name + \"!\")\n",
    "\n",
    "m = Man(\"David\")\n",
    "m.hello()\n",
    "m.goodbye()\n",
    "\n",
    "# init 為隱藏屬性，若有設定 print 必定會印出"
   ]
  },
  {
   "cell_type": "code",
   "execution_count": 22,
   "metadata": {},
   "outputs": [
    {
     "name": "stdout",
     "output_type": "stream",
     "text": [
      "請輸入半徑 = 5\n",
      "若半徑 =  5.0\n",
      "pi =  3.141592654\n",
      "周長 =  31.41592654\n",
      "面積 =  78.53981635\n",
      "球體積 =  294.5243113125\n",
      "球表面積 314.1592654\n"
     ]
    }
   ],
   "source": [
    "class Radius(object):\n",
    "    pi = 3.141592654  # 實属性，不能直接在後續的 def 中引用\n",
    "\n",
    "    def __init__(self, R):\n",
    "        self.r = R\n",
    "        pi = 3.141592654\n",
    "        self.perimeter = self.r*2*pi\n",
    "        self.area = self.r**2*pi              \n",
    "        self.volume = self.r**3*pi*3/4        \n",
    "        self.surface_area = 4*self.r**2*pi    \n",
    "\n",
    "p = input(\"請輸入半徑 = \")\n",
    "a = Radius(float(p))\n",
    "\n",
    "print(\"若半徑 = \",a.r)\n",
    "print(\"pi = \",a.pi)\n",
    "print(\"周長 = \",a.perimeter)\n",
    "print(\"面積 = \",a.area)\n",
    "print(\"球體積 = \",a.volume)\n",
    "print(\"球表面積\" ,a.surface_area)"
   ]
  },
  {
   "cell_type": "code",
   "execution_count": null,
   "metadata": {},
   "outputs": [],
   "source": [
    "\n"
   ]
  }
 ],
 "metadata": {
  "kernelspec": {
   "display_name": "Python 3",
   "language": "python",
   "name": "python3"
  },
  "language_info": {
   "codemirror_mode": {
    "name": "ipython",
    "version": 3
   },
   "file_extension": ".py",
   "mimetype": "text/x-python",
   "name": "python",
   "nbconvert_exporter": "python",
   "pygments_lexer": "ipython3",
   "version": "3.7.3"
  }
 },
 "nbformat": 4,
 "nbformat_minor": 2
}
