{
 "cells": [
  {
   "cell_type": "code",
   "execution_count": null,
   "metadata": {},
   "outputs": [],
   "source": [
    "# ReLU function\n",
    "\n",
    "class Relu:\n",
    "    # 初始化\n",
    "    def __init(self):\n",
    "        self.mask = None\n",
    "    # 函數需求，要轉為布林值，判斷 x 是否小於 0，但 false 屬性不是我們要的\n",
    "    def forward(self):\n",
    "        self.mask=(x<=0)\n",
    "        out =x.copy()\n",
    "        out[self.mask]=0\n",
    "        return out\n",
    "    def backward(self,dout):\n",
    "        dout[self.mask]=0\n",
    "        dx = dout\n",
    "        return dx\n",
    "    "
   ]
  }
 ],
 "metadata": {
  "kernelspec": {
   "display_name": "Python 3",
   "language": "python",
   "name": "python3"
  },
  "language_info": {
   "codemirror_mode": {
    "name": "ipython",
    "version": 3
   },
   "file_extension": ".py",
   "mimetype": "text/x-python",
   "name": "python",
   "nbconvert_exporter": "python",
   "pygments_lexer": "ipython3",
   "version": "3.7.3"
  }
 },
 "nbformat": 4,
 "nbformat_minor": 2
}
