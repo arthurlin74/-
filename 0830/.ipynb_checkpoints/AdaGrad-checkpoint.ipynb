{
 "cells": [
  {
   "cell_type": "code",
   "execution_count": 2,
   "metadata": {},
   "outputs": [],
   "source": [
    "# 替代梯度演算法的一種\n",
    "# 將變數轉為動態，添加梯度的微分作為環境變量\n",
    "\n",
    "class AdaGrad:\n",
    "    def __init__(self,lr=0.01,monment = 0.9): # moment 不可大於1\n",
    "        self.lr = lr\n",
    "        self.v =None\n",
    "    \n",
    "    def update(self,params,grads):\n",
    "        if self.h is None:\n",
    "            self.h =[]\n",
    "            for key,val in params.items():\n",
    "                self.h[key] = np.zeros_like(val)\n",
    "            for key in paras.keys():\n",
    "                self.h[key] += grads[key]*grads[key]\n",
    "                params[key] += selflr[key] / (np.sqrt(self.h[key])+1e-7)"
   ]
  }
 ],
 "metadata": {
  "kernelspec": {
   "display_name": "Python 3",
   "language": "python",
   "name": "python3"
  },
  "language_info": {
   "codemirror_mode": {
    "name": "ipython",
    "version": 3
   },
   "file_extension": ".py",
   "mimetype": "text/x-python",
   "name": "python",
   "nbconvert_exporter": "python",
   "pygments_lexer": "ipython3",
   "version": "3.7.3"
  }
 },
 "nbformat": 4,
 "nbformat_minor": 2
}
