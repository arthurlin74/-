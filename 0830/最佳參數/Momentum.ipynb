{
 "cells": [
  {
   "cell_type": "code",
   "execution_count": 2,
   "metadata": {},
   "outputs": [],
   "source": [
    "# 替代梯度演算法的一種\n",
    "# 原為計算運動量的做法\n",
    "\n",
    "class Momentum:\n",
    "    def __init__(self,lr=0.01,monment = 0.9): # moment 不可大於1\n",
    "        self.lr = lr\n",
    "        self.momentum = momentum\n",
    "        self.v =None\n",
    "    \n",
    "    def update(self,params,grads):\n",
    "        if self.v is None:\n",
    "            self.v =[]\n",
    "            for key,val in params.items():\n",
    "                self.v[key] = np.zeros_like(val)\n",
    "            for key in paras.keys():\n",
    "                self.v[key] = self.momentum*self.v[key]-self.lr*grads[key]\n",
    "                params[key] += self.v[key]"
   ]
  },
  {
   "cell_type": "code",
   "execution_count": null,
   "metadata": {},
   "outputs": [],
   "source": []
  }
 ],
 "metadata": {
  "kernelspec": {
   "display_name": "Python 3",
   "language": "python",
   "name": "python3"
  },
  "language_info": {
   "codemirror_mode": {
    "name": "ipython",
    "version": 3
   },
   "file_extension": ".py",
   "mimetype": "text/x-python",
   "name": "python",
   "nbconvert_exporter": "python",
   "pygments_lexer": "ipython3",
   "version": "3.7.3"
  }
 },
 "nbformat": 4,
 "nbformat_minor": 2
}
